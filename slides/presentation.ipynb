{
 "cells": [
  {
   "cell_type": "markdown",
   "metadata": {
    "slideshow": {
     "slide_type": "slide"
    }
   },
   "source": [
    "# Efficient RANSAC in efficient Julia"
   ]
  },
  {
   "cell_type": "markdown",
   "metadata": {
    "slideshow": {
     "slide_type": "fragment"
    }
   },
   "source": [
    "##[Tamás Cserteg](https://www.sztaki.hu/en/tamas-cserteg)\n",
    "\n",
    "\n",
    "###Research Laboratory on Engineering & Management Intelligence\n",
    "###Institute for Computer Science and Control (SZTAKI) - Budapest, Hungary\n",
    "\n",
    "###GitHub:  cserteGT3"
   ]
  },
  {
   "cell_type": "markdown",
   "metadata": {
    "slideshow": {
     "slide_type": "slide"
    }
   },
   "source": [
    "# Agenda\n",
    "\n",
    "1. Algorithm introduction\n",
    "2. RANSAC.jl demo\n",
    "3. Extensibility demo\n",
    "4. Future plans"
   ]
  },
  {
   "cell_type": "code",
   "execution_count": null,
   "metadata": {
    "slideshow": {
     "slide_type": "skip"
    }
   },
   "outputs": [],
   "source": [
    "cd(dirname(pwd()))\n",
    "using Pkg\n",
    "Pkg.activate(\".\")\n",
    "\n",
    "using JuliaCon2020RANSAC\n",
    "using RANSAC\n",
    "using StaticArrays\n",
    "using FileIO\n",
    "\n",
    "using RANSACVisualizer"
   ]
  },
  {
   "cell_type": "markdown",
   "metadata": {
    "slideshow": {
     "slide_type": "slide"
    }
   },
   "source": [
    "# Digital shape reconstruction\n",
    "\n"
   ]
  },
  {
   "cell_type": "code",
   "execution_count": null,
   "metadata": {},
   "outputs": [],
   "source": []
  }
 ],
 "metadata": {
  "@webio": {
   "lastCommId": null,
   "lastKernelId": null
  },
  "celltoolbar": "Slideshow",
  "kernelspec": {
   "display_name": "Julia 1.5.0-rc1",
   "language": "julia",
   "name": "julia-1.5"
  },
  "language_info": {
   "file_extension": ".jl",
   "mimetype": "application/julia",
   "name": "julia",
   "version": "1.5.0"
  }
 },
 "nbformat": 4,
 "nbformat_minor": 2
}
